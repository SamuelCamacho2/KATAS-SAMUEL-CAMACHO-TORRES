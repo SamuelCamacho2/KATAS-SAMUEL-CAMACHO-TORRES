{
  "cells": [
    {
      "cell_type": "markdown",
      "metadata": {},
      "source": [
        "# Modulo 1 Katas \n",
        "Tu primer programa\n"
      ]
    },
    {
      "cell_type": "code",
      "execution_count": null,
      "metadata": {},
      "outputs": [],
      "source": [
        "from datetime import date\n",
        "\n",
        "print(\"Today's date is: \" + str(date.today()))"
      ]
    },
    {
      "cell_type": "code",
      "execution_count": null,
      "metadata": {},
      "outputs": [],
      "source": [
        "parsec = 11\n",
        "\n",
        "lightyears =  parsec * 3.26156\n",
        "\n",
        "print(str(parsec) + \" parsec, is \" + str(lightyears) + \" lightyears\")"
      ]
    }
  ],
  "metadata": {
    "interpreter": {
      "hash": "25bf1dab56f13e21d80318cd5e789e076f92a14fa9924f370a2a818164c863f4"
    },
    "kernel_info": {
      "name": "conda-env-py37_default-py"
    },
    "kernelspec": {
      "display_name": "py37_default",
      "language": "python",
      "name": "python3"
    },
    "language_info": {
      "codemirror_mode": {
        "name": "ipython",
        "version": 3
      },
      "file_extension": ".py",
      "mimetype": "text/x-python",
      "name": "python",
      "nbconvert_exporter": "python",
      "pygments_lexer": "ipython3",
      "version": "3.9.6"
    },
    "nteract": {
      "version": "nteract-front-end@1.0.0"
    },
    "orig_nbformat": 4
  },
  "nbformat": 4,
  "nbformat_minor": 2
}
