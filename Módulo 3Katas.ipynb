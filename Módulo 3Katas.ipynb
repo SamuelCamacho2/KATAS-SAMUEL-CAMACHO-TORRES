{
 "cells": [
  {
   "cell_type": "markdown",
   "metadata": {},
   "source": [
    "# Modulo 3 Katas\n",
    "\n",
    "Ejercicion 1\n",
    "Para este ejercicio, escribirás una lógica condicional que imprima una advertencia si un asteroide se acerca a la Tierra demasiado rápido. La velocidad del asteroide varía dependiendo de lo cerca que esté del sol, y cualquier velocidad superior a 25 kilómetros por segundo (km/s) merece una advertencia."
   ]
  },
  {
   "cell_type": "code",
   "execution_count": null,
   "metadata": {},
   "outputs": [],
   "source": [
    "vel_advertencia = 25\n",
    "vel_asteroide = 49\n",
    "\n",
    "if vel_asteroide > vel_advertencia:\n",
    "      print('Un asteroide se acerca, y viaja a una velocidad de '+ str(vel_asteroide)+' km/s')\n",
    "else:\n",
    "      print('TODO BIEN PANA')\n",
    "   "
   ]
  },
  {
   "cell_type": "markdown",
   "metadata": {},
   "source": [
    "Si un asteroide entra en la atmósfera de la Tierra a una velocidad mayor o igual a 20 km/s, a veces produce un rayo de luz que se puede ver desde la Tierra. Escribe la lógica condicional que usa declaraciones if, else, y elif para alertar a las personas de todo el mundo que deben buscar un asteroide en el cielo. ¡Hay uno que se dirige a la tierra ahora a una velocidad de 19 km/s!"
   ]
  },
  {
   "cell_type": "code",
   "execution_count": null,
   "metadata": {},
   "outputs": [],
   "source": [
    "vel_advertencia = 25\n",
    "vel_asteroide = 19\n",
    "vel_estela = 20\n",
    "\n",
    "if vel_asteroide > vel_advertencia:\n",
    "     print('Un asteroide se acerca, y viaja a una velocidad de '+ str(vel_asteroide)+' km/s')\n",
    "elif vel_asteroide >= vel_estela:\n",
    "    print('¡Hay una estela de luz en el cielo!')\n",
    "else :\n",
    "    print('TODO BIEN PANA')         \n",
    "   "
   ]
  },
  {
   "cell_type": "markdown",
   "metadata": {},
   "source": [
    "Los asteroides de menos de 25 metros en su dimensión más grande probablemente se quemarán a medida que entren en la atmósfera de la Tierra.\n",
    "\n",
    "Si una pieza de un asteroide que es más grande que 25 metros pero más pequeña que 1000 metros golpeara la Tierra, causaría mucho daño.\n",
    "También discutimos en el ejercicio anterior que:\n",
    "\n",
    "La velocidad del asteroide varía en función de lo cerca que esté del sol, y cualquier velocidad superior a 25 kilómetros por segundo (km/s) merece una advertencia.\n",
    "Si un asteroide entra en la atmósfera de la Tierra a una velocidad mayor o igual a 20 km/s, a veces produce un rayo de luz que se puede ver desde la Tierra."
   ]
  },
  {
   "cell_type": "code",
   "execution_count": null,
   "metadata": {},
   "outputs": [],
   "source": [
    "vel_advertencia = 25\n",
    "vel_asteroide = 10\n",
    "vel_estela = 20\n",
    "tam_asteroide = 30\n",
    "\n",
    "if vel_asteroide > vel_advertencia and tam_asteroide > 25:\n",
    "    print('Un asteroide se acerca, y viaja a una velocidad de '+ str(vel_asteroide)+' km/s de tamaño de '+ str(tam_asteroide)+' metros')\n",
    "elif vel_asteroide >= vel_estela :\n",
    "    print('¡Hay una estela de luz en el cielo!')\n",
    "elif tam_asteroide <25:\n",
    "    print('TODO BIEN PANA')   \n",
    "else :\n",
    "    print('TODO BIEN PANA')    \n",
    "\n"
   ]
  }
 ],
 "metadata": {
  "interpreter": {
   "hash": "25bf1dab56f13e21d80318cd5e789e076f92a14fa9924f370a2a818164c863f4"
  },
  "kernelspec": {
   "display_name": "Python 3.9.6 64-bit",
   "language": "python",
   "name": "python3"
  },
  "language_info": {
   "codemirror_mode": {
    "name": "ipython",
    "version": 3
   },
   "file_extension": ".py",
   "mimetype": "text/x-python",
   "name": "python",
   "nbconvert_exporter": "python",
   "pygments_lexer": "ipython3",
   "version": "3.9.6"
  },
  "orig_nbformat": 4
 },
 "nbformat": 4,
 "nbformat_minor": 2
}
