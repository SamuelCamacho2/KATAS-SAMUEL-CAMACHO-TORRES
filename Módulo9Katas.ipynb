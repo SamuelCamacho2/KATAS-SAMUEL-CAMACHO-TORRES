{
  "cells": [
    {
      "cell_type": "markdown",
      "metadata": {},
      "source": [
        "# Modulo 9 katas"
      ]
    },
    {
      "cell_type": "markdown",
      "metadata": {},
      "source": [
        "### Ejercicio 1: Trabajar con argumentos en funciones\n",
        "\n",
        "Los argumentos requeridos en las funciones se utilizan cuando las funciones necesitan que esos argumentos funcionen correctamente. En este ejercicio, construirás un informe de combustible que requiere información de varias ubicaciones de combustible en todo el cohete.\n",
        "\n"
      ]
    },
    {
      "cell_type": "markdown",
      "metadata": {},
      "source": [
        "Comienza por crear una función que necesite tres lecturas de combustible y devuelva un informe:"
      ]
    },
    {
      "cell_type": "code",
      "execution_count": 1,
      "metadata": {},
      "outputs": [],
      "source": [
        "# Función para leer 3 tanques de combustible y muestre el promedio\n",
        "promedio = 0\n",
        "def combustible(tanque1, tanque2, tanque3):\n",
        "     promedio = (tanque1+ tanque2+ tanque3) / 3\n",
        "     print(f\"\"\" reporte \n",
        "       tanque1 : {tanque1}.\n",
        "       tanque2 : {tanque2}.\n",
        "       tanque3 : {tanque3}.\n",
        "       promedio : {promedio}.\"\"\")\n"
      ]
    },
    {
      "cell_type": "markdown",
      "metadata": {},
      "source": [
        "Ahora que hemos definido la función de informes, vamos a comprobarlo. Para esta misión, los tanques no están llenos:"
      ]
    },
    {
      "cell_type": "code",
      "execution_count": 2,
      "metadata": {},
      "outputs": [
        {
          "name": "stdout",
          "output_type": "stream",
          "text": [
            " reporte \n",
            "       tanque1 : 50.\n",
            "       tanque2 : 20.\n",
            "       tanque3 : 73.\n",
            "       promedio : 47.666666666666664.\n",
            "None\n"
          ]
        }
      ],
      "source": [
        "\n",
        "# Llamamos a la función que genera el reporte print(funcion(tanque1, tanque2, tanque3))\n",
        "print(combustible(50,20,73))"
      ]
    },
    {
      "cell_type": "markdown",
      "metadata": {},
      "source": [
        "En lugar de simplemente crear el informe, la función también está calculando el promedio. Mejora la legibilidad extrayendo el cálculo promedio de la función en una nueva función para que el promedio se pueda hacer de forma independiente:"
      ]
    },
    {
      "cell_type": "code",
      "execution_count": 9,
      "metadata": {},
      "outputs": [
        {
          "name": "stdout",
          "output_type": "stream",
          "text": [
            "47.666666666666664\n"
          ]
        }
      ],
      "source": [
        "# Función promedio \n",
        "proemdio2 = 0\n",
        "def prome(values):\n",
        "    proemdio2 = sum(values)\n",
        "    tanques = len(values)\n",
        "    return proemdio2/tanques\n",
        "    \n",
        "print(prome([50,20,73]))"
      ]
    },
    {
      "cell_type": "markdown",
      "metadata": {},
      "source": [
        "Ahora actualiza la función de informes para llamando a la nueva función del promedio:\n"
      ]
    },
    {
      "cell_type": "code",
      "execution_count": 10,
      "metadata": {},
      "outputs": [
        {
          "name": "stdout",
          "output_type": "stream",
          "text": [
            " reporte \n",
            "       tanque1 : 50.\n",
            "       tanque2 : 20.\n",
            "       tanque3 : 73.\n",
            "       promedio : 47.666666666666664.\n",
            "None\n"
          ]
        }
      ],
      "source": [
        "# Actualiza la función\n",
        "def combustible(tanque1, tanque2, tanque3):\n",
        "     promedio = (tanque1+ tanque2+ tanque3) / 3\n",
        "     print(f\"\"\" reporte \n",
        "       tanque1 : {tanque1}.\n",
        "       tanque2 : {tanque2}.\n",
        "       tanque3 : {tanque3}.\n",
        "       promedio : {prome([tanque1, tanque2, tanque3])}.\"\"\")\n",
        "\n",
        "print(combustible(50,20,73))       "
      ]
    },
    {
      "cell_type": "markdown",
      "metadata": {},
      "source": [
        "## Ejercicio 2: Trabajo con argumentos de palabra clave"
      ]
    },
    {
      "cell_type": "markdown",
      "metadata": {},
      "source": [
        "### Ejercicio : Trabajar con argumentos de palabras clave en funciones\n",
        "En este ejercicio, construirás un informe de cohete que requiere varias piezas de información, como el tiempo hasta el destino, el combustible a la izquierda y el nombre del destino. Comienza por crear una función que creará un informe preciso de la misión:"
      ]
    },
    {
      "cell_type": "code",
      "execution_count": 1,
      "metadata": {},
      "outputs": [],
      "source": [
        "# Función con un informe preciso de la misión. Considera hora de prelanzamiento, tiempo de vuelo, destino, tanque externo y tanque interno\n",
        "\n",
        "def Informe(Hoara_des,tiempo_vuelo,destino,tanque_externo,tanque_interno):\n",
        "    return f\"\"\"Informe mision\n",
        "    Hora del desplazamiento : {Hoara_des}.\n",
        "    Tiempo de vuelo : {tiempo_vuelo}.\n",
        "    Destino : {destino}.\n",
        "    Tanque externo : {tanque_externo}.\n",
        "    Tanque Internio : {tanque_interno}\"\"\""
      ]
    },
    {
      "cell_type": "markdown",
      "metadata": {},
      "source": [
        "La función es problemática porque no se puede adaptar para minutos adicionales o tanques adicionales de combustible. Hazlo más flexible permitiendo cualquier número de pasos basados en el tiempo y cualquier número de tanques. En lugar de usar `*args` y `**kwargs`, aprovecha el hecho de que puedes usar cualquier nombre que desees. Asegurate que la función sea más legible mediante el uso de nombres de variables que están asociados con las entradas, como `*minutes` y `**fuel_reservoirs`:"
      ]
    },
    {
      "cell_type": "code",
      "execution_count": 7,
      "metadata": {},
      "outputs": [
        {
          "name": "stdout",
          "output_type": "stream",
          "text": [
            "Informe mision\n",
            "    Tiempo de vuelo : 15.\n",
            "    Destino : luna¿.\n",
            "    Combustible : 700.\n"
          ]
        }
      ],
      "source": [
        "# Escribe tu nueva función de reporte considerando lo anterior\n",
        "def Informe(destino,*minutos,**combustibles):\n",
        "    return f\"\"\"Informe mision\n",
        "    Tiempo de vuelo : {sum(minutos)}.\n",
        "    Destino : {destino}.\n",
        "    Combustible : {sum(combustibles.values())}.\"\"\"\n",
        "\n",
        "print(Informe('luna',10,5,tan1=200,tan2=500))    "
      ]
    },
    {
      "cell_type": "markdown",
      "metadata": {},
      "source": [
        "Debido a que el combustible que queda en los tanques es específico de cada tanque, actualiza la función para usar el nombre de cada tanque en el informe:"
      ]
    },
    {
      "cell_type": "code",
      "execution_count": 5,
      "metadata": {},
      "outputs": [
        {
          "name": "stdout",
          "output_type": "stream",
          "text": [
            "Informe mision\n",
            "    Tiempo de vuelo : 15.\n",
            "    Destino : luna.\n",
            "    Combustible : 700.\n",
            "    tanque:tan1  capacidad :200   \n",
            "tanque:tan2  capacidad :500   \n",
            "\n"
          ]
        }
      ],
      "source": [
        "# Escribe tu nueva función\n",
        "def Informe(destino,*minutos,**combustibles):\n",
        "    reporte = f\"\"\"Informe mision\n",
        "    Tiempo de vuelo : {sum(minutos)}.\n",
        "    Destino : {destino}.\n",
        "    Combustible : {sum(combustibles.values())}.\n",
        "    \"\"\"\n",
        "    for tanque, capacidad in combustibles.items():\n",
        "        reporte += f\"tanque:{tanque}  capacidad :{capacidad}   \\n\"\n",
        "    return reporte\n",
        "\n",
        "\n",
        "print(Informe('luna',10,5,tan1=200,tan2=500))    "
      ]
    }
  ],
  "metadata": {
    "interpreter": {
      "hash": "205095b8b86ea82a021a8fc2ffba2b3bc9f8d0be25999901963b225939f75778"
    },
    "kernelspec": {
      "display_name": "Python 3.8.10 64-bit ('tmp': conda)",
      "name": "python3"
    },
    "language_info": {
      "codemirror_mode": {
        "name": "ipython",
        "version": 3
      },
      "file_extension": ".py",
      "mimetype": "text/x-python",
      "name": "python",
      "nbconvert_exporter": "python",
      "pygments_lexer": "ipython3",
      "version": "3.9.6"
    },
    "nteract": {
      "version": "nteract-front-end@1.0.0"
    },
    "orig_nbformat": 4
  },
  "nbformat": 4,
  "nbformat_minor": 2
}
